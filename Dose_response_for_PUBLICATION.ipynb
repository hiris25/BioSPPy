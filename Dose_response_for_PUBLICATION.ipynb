{
  "nbformat": 4,
  "nbformat_minor": 0,
  "metadata": {
    "colab": {
      "name": "Dose_response_for_PUBLICATION.ipynb",
      "provenance": [],
      "collapsed_sections": [],
      "toc_visible": true
    },
    "kernelspec": {
      "name": "python3",
      "display_name": "Python 3"
    }
  },
  "cells": [
    {
      "cell_type": "markdown",
      "metadata": {
        "id": "OZmxhF5uohQ1",
        "colab_type": "text"
      },
      "source": [
        "# **TEVC - Dose Response**"
      ]
    },
    {
      "cell_type": "markdown",
      "metadata": {
        "id": "XjySS7UgoLEd",
        "colab_type": "text"
      },
      "source": [
        "## Set up libraries"
      ]
    },
    {
      "cell_type": "code",
      "metadata": {
        "id": "m7jmz3kKcjcM",
        "colab_type": "code",
        "colab": {}
      },
      "source": [
        "import pandas as pd\n",
        "import numpy as np\n",
        "import glob as glob"
      ],
      "execution_count": null,
      "outputs": []
    },
    {
      "cell_type": "markdown",
      "metadata": {
        "id": "pku8fvTqon6w",
        "colab_type": "text"
      },
      "source": [
        "## Import and prepare data"
      ]
    },
    {
      "cell_type": "markdown",
      "metadata": {
        "id": "-aoQRRz01vOP",
        "colab_type": "text"
      },
      "source": [
        "### Mount google drive (optional)\n",
        "\n",
        "comment out if you want to load data from hard drive"
      ]
    },
    {
      "cell_type": "code",
      "metadata": {
        "id": "WDNVatfUoXhz",
        "colab_type": "code",
        "colab": {}
      },
      "source": [
        "from google.colab import drive\n",
        "drive.mount('/content/drive', force_remount=True)"
      ],
      "execution_count": null,
      "outputs": []
    },
    {
      "cell_type": "markdown",
      "metadata": {
        "id": "wrOnXzdGuD4P",
        "colab_type": "text"
      },
      "source": [
        "### Import Files\n",
        "\n",
        "Import all files from specified folder and combine into one dataframe called 'df'"
      ]
    },
    {
      "cell_type": "code",
      "metadata": {
        "id": "_WsuguMEBXpj",
        "colab_type": "code",
        "colab": {
          "base_uri": "https://localhost:8080/",
          "height": 34
        },
        "outputId": "edcf1c11-1754-48d8-9c0b-064c83bbe9e3"
      },
      "source": [
        "path = r'drive/your path here' # use your path\n",
        "all_files = glob.glob(path + \"/*_Datatable.dat\") # use your extension\n",
        "\n",
        "li = []\n",
        "\n",
        "for filename in all_files:\n",
        "    df = pd.read_csv(filename, index_col=None, header=0, sep='\\t') # for .dat files you must specify separation for example sep='\\t'\n",
        "    li.append(df)\n",
        "\n",
        "df = pd.concat(li, axis=0, ignore_index=True)\n",
        "\n",
        "df.shape\n",
        "#df.head()"
      ],
      "execution_count": null,
      "outputs": [
        {
          "output_type": "execute_result",
          "data": {
            "text/plain": [
              "(49, 64)"
            ]
          },
          "metadata": {
            "tags": []
          },
          "execution_count": 3
        }
      ]
    },
    {
      "cell_type": "markdown",
      "metadata": {
        "id": "JjK-VoX1qYdI",
        "colab_type": "text"
      },
      "source": [
        "### Remove excess coloumns and clean data\n",
        "Here we are keeping only the relevant information, you can add or remove coloumns as you like.\n",
        "We will also be standardising the units and generally cleaning up the data"
      ]
    },
    {
      "cell_type": "code",
      "metadata": {
        "id": "3Aco2__-qZOA",
        "colab_type": "code",
        "colab": {}
      },
      "source": [
        "#coloumn names must be updated to those in your files, these are based on the standard coloumn titles from Robocyte2+ software export\n",
        "data =  df[['Inj. ID 1'] + ['Well'] + ['Buffer'] + ['Comp. 1'] + ['conc. 1'] + ['unit 1'] + ['Minimum'] + ['Baseline Average'] + ['Start Date']]\n",
        "\n",
        "data['date'] = data['Start Date'].str.extract('(../../....)', expand=True)\n",
        "\n",
        "data.head()"
      ],
      "execution_count": null,
      "outputs": []
    },
    {
      "cell_type": "markdown",
      "metadata": {
        "id": "NYVlxap8v8j0",
        "colab_type": "text"
      },
      "source": [
        "Transform units all to uM scale"
      ]
    },
    {
      "cell_type": "code",
      "metadata": {
        "id": "f_d1IqonyfMn",
        "colab_type": "code",
        "colab": {}
      },
      "source": [
        "#Transform units all to µM scale\n",
        "conditions = [\n",
        "    (data['unit 1'] == 'mM'),\n",
        "    (data['unit 1'] == 'µM'),\n",
        "    (data['unit 1'] == 'nM')]\n",
        "\n",
        "choices = ['1000', '1', '0.001']\n",
        "\n",
        "data['factor'] = np.select(conditions, choices, default='0')\n",
        "data['factor']=data.factor.astype(float)\n",
        "data['Agonist_Concentration_µM'] = data['conc. 1'] * data['factor']\n",
        "                         \n",
        "data.head()            "
      ],
      "execution_count": null,
      "outputs": []
    },
    {
      "cell_type": "code",
      "metadata": {
        "id": "3mD3keZrMtXW",
        "colab_type": "code",
        "colab": {}
      },
      "source": [
        "data =  data[['Inj. ID 1'] + ['Well'] + ['Buffer'] + ['Comp. 1'] + ['Minimum'] + ['Agonist_Concentration_µM'] + ['date']]\n",
        "data.reset_index(drop=True)\n",
        "data.head()"
      ],
      "execution_count": null,
      "outputs": []
    },
    {
      "cell_type": "code",
      "metadata": {
        "id": "IUhhutkOGJqY",
        "colab_type": "code",
        "colab": {}
      },
      "source": [
        "#data['log_Agonist_µM'] = np.log(data['Agonist_Concentration_µM']) #if you wish to calculate log concentration\n",
        "data['Agonist'] = data['Comp. 1']\n",
        "data['Response'] = data['Minimum']\n",
        "data = data.drop(columns=['Comp. 1'])\n",
        "data.head()"
      ],
      "execution_count": null,
      "outputs": []
    },
    {
      "cell_type": "markdown",
      "metadata": {
        "id": "v5SzbQXiQ2Kj",
        "colab_type": "text"
      },
      "source": [
        "## Transform data to I/Imax for each oocyte"
      ]
    },
    {
      "cell_type": "code",
      "metadata": {
        "id": "heLom6AQQ6wH",
        "colab_type": "code",
        "colab": {}
      },
      "source": [
        "norm = data.Minimum / data.groupby(['Well']).Minimum.transform(np.min)\n",
        "data['Response'] = norm\n",
        "normdata = data.drop(columns=['Minimum', 'Buffer']) #drop unwanted coloumns\n",
        "normgroup = normdata.groupby(['Agonist_Concentration_µM']).describe()\n",
        "normdata.head()"
      ],
      "execution_count": null,
      "outputs": []
    },
    {
      "cell_type": "code",
      "metadata": {
        "id": "EHDwFPFRSsqa",
        "colab_type": "code",
        "colab": {}
      },
      "source": [
        "grouped_data = normdata.groupby(['Agonist', 'Agonist_Concentration_µM']) #view grouped data\n",
        "grouped_data['Response'].describe()"
      ],
      "execution_count": null,
      "outputs": []
    },
    {
      "cell_type": "markdown",
      "metadata": {
        "id": "xk5Pe1rhoYlV",
        "colab_type": "text"
      },
      "source": [
        "## Export as .csv\n",
        "comment out if you do not want to export .csv\n",
        "change path and file name before running"
      ]
    },
    {
      "cell_type": "markdown",
      "metadata": {
        "id": "IEmDcQao2vR4",
        "colab_type": "text"
      },
      "source": [
        "exports grouped mean, std, N into a new .csv file\n",
        "\n",
        "Includes *injection ID*, Agonist and log agonist concentrations in uM"
      ]
    },
    {
      "cell_type": "code",
      "metadata": {
        "id": "dS2UbEZ8mzdU",
        "colab_type": "code",
        "colab": {}
      },
      "source": [
        "#export = normdata #select data to export\n",
        "export = normdata.groupby(['Agonist', 'Agonist_Concentration_µM']) #select groups to average\n",
        "export = export['Response'].describe()\n",
        "\n",
        "#export = export.loc[export['Agonist_Concentration_µM'] == 1000.0] #if you wish to export a single dose\n",
        "#export.head(15) #if you wish to view the exported data\n",
        "\n",
        "export.to_csv(r'drive/your ptah here/.csv')\n"
      ],
      "execution_count": null,
      "outputs": []
    }
  ]
}